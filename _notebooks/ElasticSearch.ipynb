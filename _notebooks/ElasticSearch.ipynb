{
 "cells": [
  {
   "cell_type": "markdown",
   "metadata": {},
   "source": [
    "# \"ElasticSearch - Create and Delete operations in Python\"\n",
    "> \"ElasticSearch and Python Implementation for CRD operation\"\n",
    "\n",
    "- toc: true\n",
    "- branch: master\n",
    "- badges: true\n",
    "- comments: true\n",
    "- categories: [elasticsearch]"
   ]
  },
  {
   "cell_type": "code",
   "execution_count": null,
   "metadata": {},
   "outputs": [],
   "source": [
    "!pip install elasticsearch"
   ]
  },
  {
   "cell_type": "code",
   "execution_count": 4,
   "metadata": {},
   "outputs": [
    {
     "name": "stdout",
     "output_type": "stream",
     "text": [
      "All Modules Loaded ! \n"
     ]
    }
   ],
   "source": [
    "try:\n",
    "    import os\n",
    "    import sys\n",
    "\n",
    "    import elasticsearch\n",
    "    from elasticsearch import Elasticsearch\n",
    "    import pandas as pd\n",
    "\n",
    "    print(\"All Modules Loaded ! \")\n",
    "except Exception as e:\n",
    "    print(\"Some Modules are Missing {}\".format(e))"
   ]
  },
  {
   "cell_type": "markdown",
   "metadata": {},
   "source": [
    "# Connecting ElasticSearch"
   ]
  },
  {
   "cell_type": "code",
   "execution_count": 5,
   "metadata": {},
   "outputs": [
    {
     "name": "stdout",
     "output_type": "stream",
     "text": [
      "Connected \n"
     ]
    }
   ],
   "source": [
    "def connect_elasticsearch():\n",
    "    es = None\n",
    "    es = Elasticsearch([{'host': 'localhost', 'port': 9200}])\n",
    "    if es.ping():\n",
    "        print('Connected ')\n",
    "    else:\n",
    "        print('Please Check!..not connected!')\n",
    "    return es\n",
    "es = connect_elasticsearch()"
   ]
  },
  {
   "cell_type": "markdown",
   "metadata": {},
   "source": [
    "# Creating Index"
   ]
  },
  {
   "cell_type": "code",
   "execution_count": 6,
   "metadata": {},
   "outputs": [
    {
     "data": {
      "text/plain": [
       "{'acknowledged': True, 'shards_acknowledged': True, 'index': 'test-index1'}"
      ]
     },
     "execution_count": 6,
     "metadata": {},
     "output_type": "execute_result"
    }
   ],
   "source": [
    "es.indices.create(index='test-index', ignore=400)\n",
    "es.indices.create(index='test-index1', ignore=400)"
   ]
  },
  {
   "cell_type": "code",
   "execution_count": 8,
   "metadata": {},
   "outputs": [
    {
     "name": "stdout",
     "output_type": "stream",
     "text": [
      "movie\n",
      "ilm-history-3-000002\n",
      ".apm-custom-link\n",
      "covid\n",
      ".kibana_task_manager_1\n",
      "test-index1\n",
      "ilm-history-3-000001\n",
      ".kibana-event-log-7.10.1-000002\n",
      ".kibana_1\n",
      ".kibana-event-log-7.10.1-000003\n",
      ".async-search\n",
      "test-index\n",
      "covid-qa\n",
      "ilm-history-3-000003\n",
      ".apm-agent-configuration\n",
      "movies\n",
      ".kibana-event-log-7.10.1-000001\n"
     ]
    },
    {
     "name": "stderr",
     "output_type": "stream",
     "text": [
      "C:\\Users\\rakshit.sakhuja\\Anaconda3\\lib\\site-packages\\elasticsearch\\connection\\base.py:200: ElasticsearchWarning: this request accesses system indices: [.apm-custom-link, .kibana_task_manager_1, .kibana_1, .async-search, .apm-agent-configuration], but in a future major version, direct access to system indices will be prevented by default\n",
      "  warnings.warn(message, category=ElasticsearchWarning)\n"
     ]
    }
   ],
   "source": [
    "res =  es.indices.get_alias(\"*\")\n",
    "for Name in res:\n",
    "    print(Name)"
   ]
  },
  {
   "cell_type": "code",
   "execution_count": 10,
   "metadata": {},
   "outputs": [
    {
     "name": "stdout",
     "output_type": "stream",
     "text": [
      ".kibana-event-log-7.10.1-000003\n",
      ".kibana-event-log-7.10.1-000002\n",
      "movies\n",
      "covid-qa\n",
      "ilm-history-3-000003\n",
      ".kibana_task_manager_1\n",
      ".apm-agent-configuration\n",
      ".async-search\n",
      "movie\n",
      ".kibana-event-log-7.10.1-000001\n",
      ".apm-custom-link\n",
      "test-index1\n",
      "covid\n",
      "ilm-history-3-000001\n",
      "test-index\n",
      ".kibana_1\n",
      "ilm-history-3-000002\n"
     ]
    },
    {
     "name": "stderr",
     "output_type": "stream",
     "text": [
      "C:\\Users\\rakshit.sakhuja\\Anaconda3\\lib\\site-packages\\elasticsearch\\connection\\base.py:200: ElasticsearchWarning: this request accesses system indices: [.kibana_task_manager_1, .apm-agent-configuration, .async-search, .apm-custom-link, .kibana_1], but in a future major version, direct access to system indices will be prevented by default\n",
      "  warnings.warn(message, category=ElasticsearchWarning)\n"
     ]
    }
   ],
   "source": [
    "indices=es.indices.get_alias().keys()\n",
    "for Name in indices:\n",
    "    print(Name)"
   ]
  },
  {
   "cell_type": "code",
   "execution_count": 16,
   "metadata": {},
   "outputs": [
    {
     "name": "stderr",
     "output_type": "stream",
     "text": [
      "C:\\Users\\rakshit.sakhuja\\Anaconda3\\lib\\site-packages\\elasticsearch\\connection\\base.py:200: ElasticsearchWarning: this request accesses system indices: [.apm-custom-link, .async-search, .apm-agent-configuration, .kibana_1, .kibana_task_manager_1], but in a future major version, direct access to system indices will be prevented by default\n",
      "  warnings.warn(message, category=ElasticsearchWarning)\n"
     ]
    },
    {
     "data": {
      "text/plain": [
       "dict_keys(['.kibana-event-log-7.10.1-000003', '.kibana-event-log-7.10.1-000002', 'covid-qa', '.apm-custom-link', 'movie', 'ilm-history-3-000003', '.kibana-event-log-7.10.1-000001', '.async-search', 'movies', 'ilm-history-3-000002', '.apm-agent-configuration', '.kibana_1', '.kibana_task_manager_1', 'ilm-history-3-000001', 'covid'])"
      ]
     },
     "execution_count": 16,
     "metadata": {},
     "output_type": "execute_result"
    }
   ],
   "source": [
    "es.indices.get_alias().keys()"
   ]
  },
  {
   "cell_type": "code",
   "execution_count": 15,
   "metadata": {},
   "outputs": [
    {
     "name": "stdout",
     "output_type": "stream",
     "text": [
      "Deleted test-index \n",
      "Deleted test-index1 \n"
     ]
    },
    {
     "name": "stderr",
     "output_type": "stream",
     "text": [
      "C:\\Users\\rakshit.sakhuja\\Anaconda3\\lib\\site-packages\\elasticsearch\\connection\\base.py:200: ElasticsearchWarning: this request accesses system indices: [.apm-agent-configuration, .kibana_1, .apm-custom-link, .async-search, .kibana_task_manager_1], but in a future major version, direct access to system indices will be prevented by default\n",
      "  warnings.warn(message, category=ElasticsearchWarning)\n"
     ]
    }
   ],
   "source": [
    "for Name in [i for i in es.indices.get_alias().keys() if i in ['test-index1','test-index']]:\n",
    "    print(\"Deleted {} \".format(Name))\n",
    "    es.indices.delete(index=Name, ignore=[400, 404])"
   ]
  },
  {
   "cell_type": "code",
   "execution_count": 17,
   "metadata": {},
   "outputs": [
    {
     "name": "stdout",
     "output_type": "stream",
     "text": [
      ".kibana-event-log-7.10.1-000003\n",
      ".kibana-event-log-7.10.1-000002\n",
      "covid-qa\n",
      "covid\n",
      "movie\n",
      "ilm-history-3-000003\n",
      "movies\n",
      ".kibana-event-log-7.10.1-000001\n",
      ".kibana_task_manager_1\n",
      ".async-search\n",
      ".apm-custom-link\n",
      ".kibana_1\n",
      "ilm-history-3-000002\n",
      "ilm-history-3-000001\n",
      ".apm-agent-configuration\n"
     ]
    },
    {
     "name": "stderr",
     "output_type": "stream",
     "text": [
      "C:\\Users\\rakshit.sakhuja\\Anaconda3\\lib\\site-packages\\elasticsearch\\connection\\base.py:200: ElasticsearchWarning: this request accesses system indices: [.kibana_task_manager_1, .async-search, .apm-custom-link, .kibana_1, .apm-agent-configuration], but in a future major version, direct access to system indices will be prevented by default\n",
      "  warnings.warn(message, category=ElasticsearchWarning)\n"
     ]
    }
   ],
   "source": [
    "res =  es.indices.get_alias(\"*\")\n",
    "for Name in res:\n",
    "    print(Name)"
   ]
  },
  {
   "cell_type": "code",
   "execution_count": 18,
   "metadata": {},
   "outputs": [],
   "source": [
    "e1={\n",
    "    \"first_name\":\"Soumil\",\n",
    "    \"last_name\":\"Shah\",\n",
    "    \"age\": 24,\n",
    "    \"about\": \"Full stack Software Developers \",\n",
    "    \"interests\": ['Youtube','music'],\n",
    "}\n",
    "\n",
    "e2={\n",
    "    \"first_name\":\"nitin\",\n",
    "    \"last_name\":\"Shah\",\n",
    "    \"age\": 58,\n",
    "    \"about\": \"Soumil father \",\n",
    "    \"interests\": ['Stock','Relax'],\n",
    "}"
   ]
  },
  {
   "cell_type": "code",
   "execution_count": 19,
   "metadata": {},
   "outputs": [
    {
     "name": "stdout",
     "output_type": "stream",
     "text": [
      "RES1 : {'_index': 'person', '_type': 'people', '_id': 'v-JjtngBGnwkIaGXWEj-', '_version': 1, 'result': 'created', '_shards': {'total': 2, 'successful': 1, 'failed': 0}, '_seq_no': 0, '_primary_term': 1}\n",
      "RES2 : {'_index': 'person', '_type': 'people', '_id': 'wOJjtngBGnwkIaGXWUhu', '_version': 1, 'result': 'created', '_shards': {'total': 2, 'successful': 1, 'failed': 0}, '_seq_no': 1, '_primary_term': 1}\n"
     ]
    },
    {
     "name": "stderr",
     "output_type": "stream",
     "text": [
      "C:\\Users\\rakshit.sakhuja\\Anaconda3\\lib\\site-packages\\elasticsearch\\connection\\base.py:200: ElasticsearchWarning: [types removal] Specifying types in document index requests is deprecated, use the typeless endpoints instead (/{index}/_doc/{id}, /{index}/_doc, or /{index}/_create/{id}).\n",
      "  warnings.warn(message, category=ElasticsearchWarning)\n"
     ]
    }
   ],
   "source": [
    "es.indices.create(index='person', ignore=400)\n",
    "\n",
    "res1 = es.index(index='person',doc_type='people', body=e1)\n",
    "res2 = es.index(index='person',doc_type='people', body=e2)\n",
    "\n",
    "print(\"RES1 : {}\".format(res1))\n",
    "print(\"RES2 : {}\".format(res2))"
   ]
  },
  {
   "cell_type": "code",
   "execution_count": 20,
   "metadata": {},
   "outputs": [
    {
     "name": "stdout",
     "output_type": "stream",
     "text": [
      "ilm-history-3-000002\n",
      "ilm-history-3-000003\n",
      "covid\n",
      ".kibana-event-log-7.10.1-000003\n",
      ".apm-custom-link\n",
      ".kibana-event-log-7.10.1-000002\n",
      "movies\n",
      ".kibana-event-log-7.10.1-000001\n",
      "person\n",
      ".kibana_task_manager_1\n",
      "ilm-history-3-000001\n",
      ".apm-agent-configuration\n",
      ".kibana_1\n",
      "covid-qa\n",
      ".async-search\n",
      "movie\n"
     ]
    },
    {
     "name": "stderr",
     "output_type": "stream",
     "text": [
      "C:\\Users\\rakshit.sakhuja\\Anaconda3\\lib\\site-packages\\elasticsearch\\connection\\base.py:200: ElasticsearchWarning: this request accesses system indices: [.apm-custom-link, .kibana_task_manager_1, .apm-agent-configuration, .kibana_1, .async-search], but in a future major version, direct access to system indices will be prevented by default\n",
      "  warnings.warn(message, category=ElasticsearchWarning)\n"
     ]
    }
   ],
   "source": [
    "res =  es.indices.get_alias(\"*\")\n",
    "for Name in res:\n",
    "    print(Name)"
   ]
  },
  {
   "cell_type": "code",
   "execution_count": 21,
   "metadata": {},
   "outputs": [],
   "source": [
    "query={\"query\" : {\n",
    "        \"match_all\" : {}\n",
    "    }}\n",
    "\n",
    "res = es.search(index=\"person\", body=query, size=1000)"
   ]
  },
  {
   "cell_type": "code",
   "execution_count": 26,
   "metadata": {},
   "outputs": [
    {
     "data": {
      "text/html": [
       "<div>\n",
       "<style scoped>\n",
       "    .dataframe tbody tr th:only-of-type {\n",
       "        vertical-align: middle;\n",
       "    }\n",
       "\n",
       "    .dataframe tbody tr th {\n",
       "        vertical-align: top;\n",
       "    }\n",
       "\n",
       "    .dataframe thead th {\n",
       "        text-align: right;\n",
       "    }\n",
       "</style>\n",
       "<table border=\"1\" class=\"dataframe\">\n",
       "  <thead>\n",
       "    <tr style=\"text-align: right;\">\n",
       "      <th></th>\n",
       "      <th>_index</th>\n",
       "      <th>_type</th>\n",
       "      <th>_id</th>\n",
       "      <th>_score</th>\n",
       "      <th>_source</th>\n",
       "    </tr>\n",
       "  </thead>\n",
       "  <tbody>\n",
       "    <tr>\n",
       "      <th>0</th>\n",
       "      <td>person</td>\n",
       "      <td>people</td>\n",
       "      <td>v-JjtngBGnwkIaGXWEj-</td>\n",
       "      <td>1.0</td>\n",
       "      <td>{'first_name': 'Soumil', 'last_name': 'Shah', ...</td>\n",
       "    </tr>\n",
       "    <tr>\n",
       "      <th>1</th>\n",
       "      <td>person</td>\n",
       "      <td>people</td>\n",
       "      <td>wOJjtngBGnwkIaGXWUhu</td>\n",
       "      <td>1.0</td>\n",
       "      <td>{'first_name': 'nitin', 'last_name': 'Shah', '...</td>\n",
       "    </tr>\n",
       "  </tbody>\n",
       "</table>\n",
       "</div>"
      ],
      "text/plain": [
       "   _index   _type                   _id  _score  \\\n",
       "0  person  people  v-JjtngBGnwkIaGXWEj-     1.0   \n",
       "1  person  people  wOJjtngBGnwkIaGXWUhu     1.0   \n",
       "\n",
       "                                             _source  \n",
       "0  {'first_name': 'Soumil', 'last_name': 'Shah', ...  \n",
       "1  {'first_name': 'nitin', 'last_name': 'Shah', '...  "
      ]
     },
     "execution_count": 26,
     "metadata": {},
     "output_type": "execute_result"
    }
   ],
   "source": [
    "pd.DataFrame(list(res['hits']['hits']))"
   ]
  },
  {
   "cell_type": "code",
   "execution_count": null,
   "metadata": {},
   "outputs": [],
   "source": []
  },
  {
   "cell_type": "code",
   "execution_count": null,
   "metadata": {},
   "outputs": [],
   "source": []
  }
 ],
 "metadata": {
  "kernelspec": {
   "display_name": "Python 3",
   "language": "python",
   "name": "python3"
  },
  "language_info": {
   "codemirror_mode": {
    "name": "ipython",
    "version": 3
   },
   "file_extension": ".py",
   "mimetype": "text/x-python",
   "name": "python",
   "nbconvert_exporter": "python",
   "pygments_lexer": "ipython3",
   "version": "3.8.5"
  }
 },
 "nbformat": 4,
 "nbformat_minor": 4
}
